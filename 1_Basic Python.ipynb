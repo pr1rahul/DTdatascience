{
 "cells": [
  {
   "cell_type": "code",
   "execution_count": null,
   "metadata": {
    "colab": {
     "base_uri": "https://localhost:8080/"
    },
    "executionInfo": {
     "elapsed": 4,
     "status": "ok",
     "timestamp": 1654101468375,
     "user": {
      "displayName": "Kalashri Sks",
      "userId": "04851706835588548424"
     },
     "user_tz": -330
    },
    "id": "3qKe_lfuDTkv",
    "outputId": "efe36631-7e90-4759-da4d-04ec7dd1a63e"
   },
   "outputs": [
    {
     "data": {
      "text/plain": [
       "1"
      ]
     },
     "execution_count": 1,
     "metadata": {},
     "output_type": "execute_result"
    }
   ],
   "source": [
    "a = 1\n",
    "a"
   ]
  },
  {
   "cell_type": "code",
   "execution_count": null,
   "metadata": {
    "colab": {
     "base_uri": "https://localhost:8080/"
    },
    "executionInfo": {
     "elapsed": 20,
     "status": "ok",
     "timestamp": 1654102677027,
     "user": {
      "displayName": "Kalashri Sks",
      "userId": "04851706835588548424"
     },
     "user_tz": -330
    },
    "id": "J_CwV6GXISL6",
    "outputId": "57b21976-efa4-4768-b888-4652de01e85e"
   },
   "outputs": [
    {
     "name": "stdout",
     "output_type": "stream",
     "text": [
      "['False', 'None', 'True', 'and', 'as', 'assert', 'async', 'await', 'break', 'class', 'continue', 'def', 'del', 'elif', 'else', 'except', 'finally', 'for', 'from', 'global', 'if', 'import', 'in', 'is', 'lambda', 'nonlocal', 'not', 'or', 'pass', 'raise', 'return', 'try', 'while', 'with', 'yield']\n"
     ]
    }
   ],
   "source": [
    "import keyword\n",
    "print(keyword.kwlist)"
   ]
  },
  {
   "cell_type": "code",
   "execution_count": null,
   "metadata": {
    "colab": {
     "base_uri": "https://localhost:8080/",
     "height": 133
    },
    "executionInfo": {
     "elapsed": 7,
     "status": "error",
     "timestamp": 1654102705400,
     "user": {
      "displayName": "Kalashri Sks",
      "userId": "04851706835588548424"
     },
     "user_tz": -330
    },
    "id": "HATgLcBYM9E5",
    "outputId": "6bf7ede2-ed30-44bf-dc56-cc037cdc1001"
   },
   "outputs": [
    {
     "ename": "SyntaxError",
     "evalue": "ignored",
     "output_type": "error",
     "traceback": [
      "\u001b[0;36m  File \u001b[0;32m\"<ipython-input-3-39b49878c13c>\"\u001b[0;36m, line \u001b[0;32m1\u001b[0m\n\u001b[0;31m    else = 1\u001b[0m\n\u001b[0m       ^\u001b[0m\n\u001b[0;31mSyntaxError\u001b[0m\u001b[0;31m:\u001b[0m invalid syntax\n"
     ]
    }
   ],
   "source": [
    "else = 1\n",
    "else"
   ]
  },
  {
   "cell_type": "code",
   "execution_count": null,
   "metadata": {
    "colab": {
     "base_uri": "https://localhost:8080/"
    },
    "executionInfo": {
     "elapsed": 3,
     "status": "ok",
     "timestamp": 1654102716236,
     "user": {
      "displayName": "Kalashri Sks",
      "userId": "04851706835588548424"
     },
     "user_tz": -330
    },
    "id": "DQL4Drk9NEEA",
    "outputId": "b1c94093-43ee-4e12-9b0b-d8caaf042788"
   },
   "outputs": [
    {
     "data": {
      "text/plain": [
       "1"
      ]
     },
     "execution_count": 4,
     "metadata": {},
     "output_type": "execute_result"
    }
   ],
   "source": [
    "els = 1\n",
    "els"
   ]
  },
  {
   "cell_type": "code",
   "execution_count": null,
   "metadata": {
    "colab": {
     "base_uri": "https://localhost:8080/",
     "height": 133
    },
    "executionInfo": {
     "elapsed": 8,
     "status": "error",
     "timestamp": 1654186085206,
     "user": {
      "displayName": "Kalashri Sks",
      "userId": "04851706835588548424"
     },
     "user_tz": -330
    },
    "id": "sT03h8oONGj0",
    "outputId": "c3dba87e-d329-49b7-9faf-da8715ac8153"
   },
   "outputs": [
    {
     "ename": "SyntaxError",
     "evalue": "ignored",
     "output_type": "error",
     "traceback": [
      "\u001b[0;36m  File \u001b[0;32m\"<ipython-input-1-c41233b17932>\"\u001b[0;36m, line \u001b[0;32m1\u001b[0m\n\u001b[0;31m    1abs = 1\u001b[0m\n\u001b[0m       ^\u001b[0m\n\u001b[0;31mSyntaxError\u001b[0m\u001b[0;31m:\u001b[0m invalid syntax\n"
     ]
    }
   ],
   "source": [
    "1abs = 1"
   ]
  },
  {
   "cell_type": "code",
   "execution_count": null,
   "metadata": {
    "id": "M-VMDW-ILEIq"
   },
   "outputs": [],
   "source": [
    "abs1 = 1"
   ]
  },
  {
   "cell_type": "code",
   "execution_count": null,
   "metadata": {
    "id": "RQXUrtomLQli"
   },
   "outputs": [],
   "source": [
    "_abs = 1"
   ]
  },
  {
   "cell_type": "markdown",
   "metadata": {
    "id": "ZrbZ11fzL8Kt"
   },
   "source": []
  },
  {
   "cell_type": "code",
   "execution_count": null,
   "metadata": {
    "colab": {
     "base_uri": "https://localhost:8080/",
     "height": 133
    },
    "executionInfo": {
     "elapsed": 8,
     "status": "error",
     "timestamp": 1654186279091,
     "user": {
      "displayName": "Kalashri Sks",
      "userId": "04851706835588548424"
     },
     "user_tz": -330
    },
    "id": "Rkwsj4AMLTSx",
    "outputId": "c5bed6a2-363e-4ed8-fb7f-dc4f4b835aaa"
   },
   "outputs": [
    {
     "ename": "SyntaxError",
     "evalue": "ignored",
     "output_type": "error",
     "traceback": [
      "\u001b[0;36m  File \u001b[0;32m\"<ipython-input-4-780e1ac369fc>\"\u001b[0;36m, line \u001b[0;32m1\u001b[0m\n\u001b[0;31m    abc34 643 = 1\u001b[0m\n\u001b[0m            ^\u001b[0m\n\u001b[0;31mSyntaxError\u001b[0m\u001b[0;31m:\u001b[0m invalid syntax\n"
     ]
    }
   ],
   "source": [
    "abc34 643 = 1"
   ]
  },
  {
   "cell_type": "code",
   "execution_count": null,
   "metadata": {
    "id": "aZ_V8xFaL3oy"
   },
   "outputs": [],
   "source": [
    "_name = 'Python'\n",
    "name_first\n",
    "first_name\n",
    "firstName"
   ]
  },
  {
   "cell_type": "code",
   "execution_count": null,
   "metadata": {
    "colab": {
     "base_uri": "https://localhost:8080/"
    },
    "executionInfo": {
     "elapsed": 9,
     "status": "ok",
     "timestamp": 1654186794984,
     "user": {
      "displayName": "Kalashri Sks",
      "userId": "04851706835588548424"
     },
     "user_tz": -330
    },
    "id": "BnHenUxZNxEN",
    "outputId": "60b1aee9-507e-4c4f-a319-24931a74faea"
   },
   "outputs": [
    {
     "name": "stdout",
     "output_type": "stream",
     "text": [
      "301\n"
     ]
    }
   ],
   "source": [
    "add = 1+300\n",
    "print(add)"
   ]
  },
  {
   "cell_type": "code",
   "execution_count": null,
   "metadata": {
    "colab": {
     "base_uri": "https://localhost:8080/"
    },
    "executionInfo": {
     "elapsed": 7,
     "status": "ok",
     "timestamp": 1654186814314,
     "user": {
      "displayName": "Kalashri Sks",
      "userId": "04851706835588548424"
     },
     "user_tz": -330
    },
    "id": "xnXgrDoQN1mJ",
    "outputId": "567f254a-6f39-4c79-d4dd-244f0ea10d17"
   },
   "outputs": [
    {
     "name": "stdout",
     "output_type": "stream",
     "text": [
      "<class 'int'>\n"
     ]
    }
   ],
   "source": [
    "print(type(add))"
   ]
  },
  {
   "cell_type": "code",
   "execution_count": null,
   "metadata": {
    "colab": {
     "base_uri": "https://localhost:8080/"
    },
    "executionInfo": {
     "elapsed": 5,
     "status": "ok",
     "timestamp": 1654186837343,
     "user": {
      "displayName": "Kalashri Sks",
      "userId": "04851706835588548424"
     },
     "user_tz": -330
    },
    "id": "X6gUcd0bN4iI",
    "outputId": "e52b4a58-e41c-4846-8ab7-802992b1a904"
   },
   "outputs": [
    {
     "name": "stdout",
     "output_type": "stream",
     "text": [
      "<class 'float'>\n"
     ]
    }
   ],
   "source": [
    "add = 1+300.00\n",
    "print(type(add))"
   ]
  },
  {
   "cell_type": "code",
   "execution_count": null,
   "metadata": {
    "colab": {
     "base_uri": "https://localhost:8080/"
    },
    "executionInfo": {
     "elapsed": 539,
     "status": "ok",
     "timestamp": 1654186879717,
     "user": {
      "displayName": "Kalashri Sks",
      "userId": "04851706835588548424"
     },
     "user_tz": -330
    },
    "id": "hflI0jSMOAAI",
    "outputId": "d4509616-6290-4b4a-e479-622b2e34135f"
   },
   "outputs": [
    {
     "name": "stdout",
     "output_type": "stream",
     "text": [
      "PythonPythonPythonPythonPython\n",
      "<class 'str'>\n"
     ]
    }
   ],
   "source": [
    "add = 5 * \"Python\"\n",
    "print(add)\n",
    "print(type(add))"
   ]
  },
  {
   "cell_type": "code",
   "execution_count": null,
   "metadata": {
    "colab": {
     "base_uri": "https://localhost:8080/",
     "height": 204
    },
    "executionInfo": {
     "elapsed": 7,
     "status": "error",
     "timestamp": 1654186912868,
     "user": {
      "displayName": "Kalashri Sks",
      "userId": "04851706835588548424"
     },
     "user_tz": -330
    },
    "id": "y5GvOKvKOHjc",
    "outputId": "a284db95-ffd0-4c4d-c6b0-7f4fc61e9c15"
   },
   "outputs": [
    {
     "ename": "TypeError",
     "evalue": "ignored",
     "output_type": "error",
     "traceback": [
      "\u001b[0;31m---------------------------------------------------------------------------\u001b[0m",
      "\u001b[0;31mTypeError\u001b[0m                                 Traceback (most recent call last)",
      "\u001b[0;32m<ipython-input-11-4f78a460fc03>\u001b[0m in \u001b[0;36m<module>\u001b[0;34m()\u001b[0m\n\u001b[0;32m----> 1\u001b[0;31m \u001b[0madd\u001b[0m \u001b[0;34m=\u001b[0m \u001b[0;36m5\u001b[0m \u001b[0;34m+\u001b[0m \u001b[0;34m\"Python\"\u001b[0m\u001b[0;34m\u001b[0m\u001b[0;34m\u001b[0m\u001b[0m\n\u001b[0m\u001b[1;32m      2\u001b[0m \u001b[0mprint\u001b[0m\u001b[0;34m(\u001b[0m\u001b[0madd\u001b[0m\u001b[0;34m)\u001b[0m\u001b[0;34m\u001b[0m\u001b[0;34m\u001b[0m\u001b[0m\n\u001b[1;32m      3\u001b[0m \u001b[0mprint\u001b[0m\u001b[0;34m(\u001b[0m\u001b[0mtype\u001b[0m\u001b[0;34m(\u001b[0m\u001b[0madd\u001b[0m\u001b[0;34m)\u001b[0m\u001b[0;34m)\u001b[0m\u001b[0;34m\u001b[0m\u001b[0;34m\u001b[0m\u001b[0m\n",
      "\u001b[0;31mTypeError\u001b[0m: unsupported operand type(s) for +: 'int' and 'str'"
     ]
    }
   ],
   "source": [
    "add = 5 + \"Python\"\n",
    "print(add)\n",
    "print(type(add))"
   ]
  },
  {
   "cell_type": "code",
   "execution_count": null,
   "metadata": {
    "colab": {
     "base_uri": "https://localhost:8080/"
    },
    "executionInfo": {
     "elapsed": 4,
     "status": "ok",
     "timestamp": 1654187046342,
     "user": {
      "displayName": "Kalashri Sks",
      "userId": "04851706835588548424"
     },
     "user_tz": -330
    },
    "id": "hZQNfmgGOSfo",
    "outputId": "d7f74ac4-798a-4226-8cdc-86c688d945f9"
   },
   "outputs": [
    {
     "name": "stdout",
     "output_type": "stream",
     "text": [
      "<class 'str'>\n"
     ]
    }
   ],
   "source": [
    "b = 'Everyone'\n",
    "print(type(b))"
   ]
  },
  {
   "cell_type": "code",
   "execution_count": null,
   "metadata": {
    "colab": {
     "base_uri": "https://localhost:8080/"
    },
    "executionInfo": {
     "elapsed": 11,
     "status": "ok",
     "timestamp": 1654187082736,
     "user": {
      "displayName": "Kalashri Sks",
      "userId": "04851706835588548424"
     },
     "user_tz": -330
    },
    "id": "NbuFnSmZOytg",
    "outputId": "6bdd13bc-9a0e-4d8a-c8b0-d6d0b5501704"
   },
   "outputs": [
    {
     "name": "stdout",
     "output_type": "stream",
     "text": [
      "<class 'str'>\n"
     ]
    }
   ],
   "source": [
    "b = '10 Everyone'\n",
    "print(type(b))"
   ]
  },
  {
   "cell_type": "code",
   "execution_count": null,
   "metadata": {
    "colab": {
     "base_uri": "https://localhost:8080/"
    },
    "executionInfo": {
     "elapsed": 8,
     "status": "ok",
     "timestamp": 1654187218111,
     "user": {
      "displayName": "Kalashri Sks",
      "userId": "04851706835588548424"
     },
     "user_tz": -330
    },
    "id": "RJuoB0U7O7bQ",
    "outputId": "9ce0ecae-06b5-4f32-a112-ba3607747d07"
   },
   "outputs": [
    {
     "name": "stdout",
     "output_type": "stream",
     "text": [
      "100\n"
     ]
    }
   ],
   "source": [
    "a = 100\n",
    "print(a)"
   ]
  },
  {
   "cell_type": "code",
   "execution_count": null,
   "metadata": {
    "colab": {
     "base_uri": "https://localhost:8080/",
     "height": 35
    },
    "executionInfo": {
     "elapsed": 9,
     "status": "ok",
     "timestamp": 1654187229678,
     "user": {
      "displayName": "Kalashri Sks",
      "userId": "04851706835588548424"
     },
     "user_tz": -330
    },
    "id": "BrISpUUiPc2Y",
    "outputId": "a262abca-68d5-46b3-d820-3f8df7782f4e"
   },
   "outputs": [
    {
     "data": {
      "application/vnd.google.colaboratory.intrinsic+json": {
       "type": "string"
      },
      "text/plain": [
       "'Python'"
      ]
     },
     "execution_count": 15,
     "metadata": {},
     "output_type": "execute_result"
    }
   ],
   "source": [
    "a = \"Python\"\n",
    "a"
   ]
  },
  {
   "cell_type": "code",
   "execution_count": null,
   "metadata": {
    "colab": {
     "base_uri": "https://localhost:8080/",
     "height": 35
    },
    "executionInfo": {
     "elapsed": 5,
     "status": "ok",
     "timestamp": 1654187235034,
     "user": {
      "displayName": "Kalashri Sks",
      "userId": "04851706835588548424"
     },
     "user_tz": -330
    },
    "id": "qUR-K-kLPfuX",
    "outputId": "ef5d9964-8ae4-4454-90f6-e24004bd1f57"
   },
   "outputs": [
    {
     "data": {
      "application/vnd.google.colaboratory.intrinsic+json": {
       "type": "string"
      },
      "text/plain": [
       "'Python'"
      ]
     },
     "execution_count": 16,
     "metadata": {},
     "output_type": "execute_result"
    }
   ],
   "source": [
    "a"
   ]
  },
  {
   "cell_type": "code",
   "execution_count": null,
   "metadata": {
    "colab": {
     "base_uri": "https://localhost:8080/",
     "height": 35
    },
    "executionInfo": {
     "elapsed": 12,
     "status": "ok",
     "timestamp": 1654187238925,
     "user": {
      "displayName": "Kalashri Sks",
      "userId": "04851706835588548424"
     },
     "user_tz": -330
    },
    "id": "LhxFVUUlPhBJ",
    "outputId": "68ed18e0-0721-4496-ffcc-92b9440e6ecf"
   },
   "outputs": [
    {
     "data": {
      "application/vnd.google.colaboratory.intrinsic+json": {
       "type": "string"
      },
      "text/plain": [
       "'Python'"
      ]
     },
     "execution_count": 17,
     "metadata": {},
     "output_type": "execute_result"
    }
   ],
   "source": [
    "a"
   ]
  },
  {
   "cell_type": "code",
   "execution_count": null,
   "metadata": {
    "id": "a0qSKMtCPh_Q"
   },
   "outputs": [],
   "source": [
    "a, b, c, d,e =10, \"Python\", 50.9, True, 'Value'"
   ]
  },
  {
   "cell_type": "code",
   "execution_count": null,
   "metadata": {
    "colab": {
     "base_uri": "https://localhost:8080/"
    },
    "executionInfo": {
     "elapsed": 8,
     "status": "ok",
     "timestamp": 1654187466917,
     "user": {
      "displayName": "Kalashri Sks",
      "userId": "04851706835588548424"
     },
     "user_tz": -330
    },
    "id": "jko_L1LcQXSE",
    "outputId": "e321e483-0c3e-4a8a-f8f1-ef6c613ce435"
   },
   "outputs": [
    {
     "name": "stdout",
     "output_type": "stream",
     "text": [
      "50.9\n"
     ]
    }
   ],
   "source": [
    "print(c)"
   ]
  },
  {
   "cell_type": "code",
   "execution_count": null,
   "metadata": {
    "colab": {
     "base_uri": "https://localhost:8080/",
     "height": 35
    },
    "executionInfo": {
     "elapsed": 692,
     "status": "ok",
     "timestamp": 1654187943671,
     "user": {
      "displayName": "Kalashri Sks",
      "userId": "04851706835588548424"
     },
     "user_tz": -330
    },
    "id": "jQOfVNfFQZtQ",
    "outputId": "3cba4216-95c9-413c-ed8f-77fd3cbd5a4c"
   },
   "outputs": [
    {
     "data": {
      "application/vnd.google.colaboratory.intrinsic+json": {
       "type": "string"
      },
      "text/plain": [
       "'Hello'"
      ]
     },
     "execution_count": 20,
     "metadata": {},
     "output_type": "execute_result"
    }
   ],
   "source": [
    "a = \"Hello\"\n",
    "a"
   ]
  },
  {
   "cell_type": "code",
   "execution_count": null,
   "metadata": {
    "colab": {
     "base_uri": "https://localhost:8080/"
    },
    "executionInfo": {
     "elapsed": 4,
     "status": "ok",
     "timestamp": 1654187973254,
     "user": {
      "displayName": "Kalashri Sks",
      "userId": "04851706835588548424"
     },
     "user_tz": -330
    },
    "id": "XU3OUftZSNR_",
    "outputId": "38cf4f22-acde-4e15-e5a8-43184c9993bb"
   },
   "outputs": [
    {
     "name": "stdout",
     "output_type": "stream",
     "text": [
      "Lorem ipsum dolor sit amet, \n",
      "consectetur adipiscing elit,\n",
      "sed do eiusmod tempor incididunt \n",
      "ut labore et dolore magna aliqua.\n"
     ]
    }
   ],
   "source": [
    "a = \"\"\"Lorem ipsum dolor sit amet, \n",
    "consectetur adipiscing elit,\n",
    "sed do eiusmod tempor incididunt \n",
    "ut labore et dolore magna aliqua.\"\"\"\n",
    "print(a)"
   ]
  },
  {
   "cell_type": "code",
   "execution_count": null,
   "metadata": {
    "colab": {
     "base_uri": "https://localhost:8080/",
     "height": 35
    },
    "executionInfo": {
     "elapsed": 6,
     "status": "ok",
     "timestamp": 1654187991250,
     "user": {
      "displayName": "Kalashri Sks",
      "userId": "04851706835588548424"
     },
     "user_tz": -330
    },
    "id": "MsOcTqyGSVcZ",
    "outputId": "8ec41f30-3613-4324-d637-22835539b21b"
   },
   "outputs": [
    {
     "data": {
      "application/vnd.google.colaboratory.intrinsic+json": {
       "type": "string"
      },
      "text/plain": [
       "'sdfsdafsaf\\nasdffafa\\nasdfafaF'"
      ]
     },
     "execution_count": 22,
     "metadata": {},
     "output_type": "execute_result"
    }
   ],
   "source": [
    "'''sdfsdafsaf\n",
    "asdffafa\n",
    "asdfafaF'''"
   ]
  },
  {
   "cell_type": "code",
   "execution_count": null,
   "metadata": {
    "id": "g9E3gpljSZbi"
   },
   "outputs": [],
   "source": [
    "# sdfsfgsg"
   ]
  },
  {
   "cell_type": "code",
   "execution_count": null,
   "metadata": {
    "id": "L7oN7UFHSdoZ"
   },
   "outputs": [],
   "source": [
    "#sdfsdafsaf\n",
    "#asdffafa\n",
    "#asdfafaF"
   ]
  },
  {
   "cell_type": "code",
   "execution_count": null,
   "metadata": {
    "id": "NZeXTdNoSh_R"
   },
   "outputs": [],
   "source": []
  },
  {
   "cell_type": "markdown",
   "metadata": {
    "id": "Lqu7x2TUSkb-"
   },
   "source": [
    "safsdf\n",
    "fghhj"
   ]
  },
  {
   "cell_type": "code",
   "execution_count": null,
   "metadata": {
    "colab": {
     "base_uri": "https://localhost:8080/"
    },
    "executionInfo": {
     "elapsed": 10,
     "status": "ok",
     "timestamp": 1654188123642,
     "user": {
      "displayName": "Kalashri Sks",
      "userId": "04851706835588548424"
     },
     "user_tz": -330
    },
    "id": "B2elIR0KSlqv",
    "outputId": "d8b7564b-4119-43f6-ca7e-373bfa2d13b4"
   },
   "outputs": [
    {
     "data": {
      "text/plain": [
       "12"
      ]
     },
     "execution_count": 25,
     "metadata": {},
     "output_type": "execute_result"
    }
   ],
   "source": [
    "a = 'Data Science'\n",
    "len(a)"
   ]
  },
  {
   "cell_type": "code",
   "execution_count": null,
   "metadata": {
    "colab": {
     "base_uri": "https://localhost:8080/",
     "height": 35
    },
    "executionInfo": {
     "elapsed": 6,
     "status": "ok",
     "timestamp": 1654188145387,
     "user": {
      "displayName": "Kalashri Sks",
      "userId": "04851706835588548424"
     },
     "user_tz": -330
    },
    "id": "wm_CKqSoS58I",
    "outputId": "c08103c8-0185-4fca-b8aa-753f1fe1b94e"
   },
   "outputs": [
    {
     "data": {
      "application/vnd.google.colaboratory.intrinsic+json": {
       "type": "string"
      },
      "text/plain": [
       "'S'"
      ]
     },
     "execution_count": 26,
     "metadata": {},
     "output_type": "execute_result"
    }
   ],
   "source": [
    "a[5]"
   ]
  },
  {
   "cell_type": "code",
   "execution_count": null,
   "metadata": {
    "colab": {
     "base_uri": "https://localhost:8080/",
     "height": 35
    },
    "executionInfo": {
     "elapsed": 5,
     "status": "ok",
     "timestamp": 1654188202846,
     "user": {
      "displayName": "Kalashri Sks",
      "userId": "04851706835588548424"
     },
     "user_tz": -330
    },
    "id": "SsqtI4j4S_WR",
    "outputId": "d7b5eb7d-04b7-425d-a2f0-7bf5be50801a"
   },
   "outputs": [
    {
     "data": {
      "application/vnd.google.colaboratory.intrinsic+json": {
       "type": "string"
      },
      "text/plain": [
       "'e'"
      ]
     },
     "execution_count": 27,
     "metadata": {},
     "output_type": "execute_result"
    }
   ],
   "source": [
    "a[8]"
   ]
  },
  {
   "cell_type": "code",
   "execution_count": null,
   "metadata": {
    "colab": {
     "base_uri": "https://localhost:8080/",
     "height": 35
    },
    "executionInfo": {
     "elapsed": 14,
     "status": "ok",
     "timestamp": 1654188236888,
     "user": {
      "displayName": "Kalashri Sks",
      "userId": "04851706835588548424"
     },
     "user_tz": -330
    },
    "id": "Y0ce8mZlTNSg",
    "outputId": "e350680a-5086-4e2d-8f04-6f95906becd4"
   },
   "outputs": [
    {
     "data": {
      "application/vnd.google.colaboratory.intrinsic+json": {
       "type": "string"
      },
      "text/plain": [
       "'ta '"
      ]
     },
     "execution_count": 28,
     "metadata": {},
     "output_type": "execute_result"
    }
   ],
   "source": [
    "a[2:5]"
   ]
  },
  {
   "cell_type": "code",
   "execution_count": null,
   "metadata": {
    "colab": {
     "base_uri": "https://localhost:8080/"
    },
    "executionInfo": {
     "elapsed": 4,
     "status": "ok",
     "timestamp": 1654188368777,
     "user": {
      "displayName": "Kalashri Sks",
      "userId": "04851706835588548424"
     },
     "user_tz": -330
    },
    "id": "jdWsq2o5TVqw",
    "outputId": "2ca29277-f6c9-4a1a-9fb8-c8f4cc27a180"
   },
   "outputs": [
    {
     "name": "stdout",
     "output_type": "stream",
     "text": [
      "True\n"
     ]
    }
   ],
   "source": [
    "txt = \"The best things in life are free!\"\n",
    "print(\"free\" in txt)"
   ]
  },
  {
   "cell_type": "code",
   "execution_count": null,
   "metadata": {
    "colab": {
     "base_uri": "https://localhost:8080/"
    },
    "executionInfo": {
     "elapsed": 6,
     "status": "ok",
     "timestamp": 1654188396240,
     "user": {
      "displayName": "Kalashri Sks",
      "userId": "04851706835588548424"
     },
     "user_tz": -330
    },
    "id": "M_pPv66xT15H",
    "outputId": "e93450e9-6517-4dc8-aed0-2ae6db185d34"
   },
   "outputs": [
    {
     "data": {
      "text/plain": [
       "False"
      ]
     },
     "execution_count": 30,
     "metadata": {},
     "output_type": "execute_result"
    }
   ],
   "source": [
    "txt = \"The best things in life are free!\"\n",
    "\"exhaustive\" in txt"
   ]
  },
  {
   "cell_type": "code",
   "execution_count": null,
   "metadata": {
    "colab": {
     "base_uri": "https://localhost:8080/"
    },
    "executionInfo": {
     "elapsed": 3,
     "status": "ok",
     "timestamp": 1654188422471,
     "user": {
      "displayName": "Kalashri Sks",
      "userId": "04851706835588548424"
     },
     "user_tz": -330
    },
    "id": "3IL7j8VZT8iF",
    "outputId": "d22fb158-517c-45f6-f66e-b5c31917006b"
   },
   "outputs": [
    {
     "data": {
      "text/plain": [
       "True"
      ]
     },
     "execution_count": 31,
     "metadata": {},
     "output_type": "execute_result"
    }
   ],
   "source": [
    "\"exhaustive\" not in txt"
   ]
  },
  {
   "cell_type": "code",
   "execution_count": null,
   "metadata": {
    "colab": {
     "base_uri": "https://localhost:8080/",
     "height": 35
    },
    "executionInfo": {
     "elapsed": 9,
     "status": "ok",
     "timestamp": 1654188461125,
     "user": {
      "displayName": "Kalashri Sks",
      "userId": "04851706835588548424"
     },
     "user_tz": -330
    },
    "id": "htC71UKpUC-w",
    "outputId": "41856a7c-a214-4c4e-fd48-990e6fd3f4d6"
   },
   "outputs": [
    {
     "data": {
      "application/vnd.google.colaboratory.intrinsic+json": {
       "type": "string"
      },
      "text/plain": [
       "'alyst Pl'"
      ]
     },
     "execution_count": 32,
     "metadata": {},
     "output_type": "execute_result"
    }
   ],
   "source": [
    "b= \"Data Analyst Plan\"\n",
    "b[-10:-2]"
   ]
  },
  {
   "cell_type": "code",
   "execution_count": null,
   "metadata": {
    "colab": {
     "base_uri": "https://localhost:8080/",
     "height": 35
    },
    "executionInfo": {
     "elapsed": 394,
     "status": "ok",
     "timestamp": 1654188580458,
     "user": {
      "displayName": "Kalashri Sks",
      "userId": "04851706835588548424"
     },
     "user_tz": -330
    },
    "id": "TOwLAByHUMbR",
    "outputId": "887113f6-beb2-4dec-e18c-657bfdb74ee4"
   },
   "outputs": [
    {
     "data": {
      "application/vnd.google.colaboratory.intrinsic+json": {
       "type": "string"
      },
      "text/plain": [
       "'data analyst plan'"
      ]
     },
     "execution_count": 34,
     "metadata": {},
     "output_type": "execute_result"
    }
   ],
   "source": [
    "b.lower()"
   ]
  },
  {
   "cell_type": "code",
   "execution_count": null,
   "metadata": {
    "colab": {
     "base_uri": "https://localhost:8080/",
     "height": 35
    },
    "executionInfo": {
     "elapsed": 4,
     "status": "ok",
     "timestamp": 1654188624137,
     "user": {
      "displayName": "Kalashri Sks",
      "userId": "04851706835588548424"
     },
     "user_tz": -330
    },
    "id": "1A1JoV2LUlzP",
    "outputId": "0fa8c9c0-9e45-4091-9d69-1eb672e7e8c0"
   },
   "outputs": [
    {
     "data": {
      "application/vnd.google.colaboratory.intrinsic+json": {
       "type": "string"
      },
      "text/plain": [
       "'   Data Science   '"
      ]
     },
     "execution_count": 37,
     "metadata": {},
     "output_type": "execute_result"
    }
   ],
   "source": [
    "a = '   Data Science   '\n",
    "a"
   ]
  },
  {
   "cell_type": "code",
   "execution_count": null,
   "metadata": {
    "colab": {
     "base_uri": "https://localhost:8080/",
     "height": 35
    },
    "executionInfo": {
     "elapsed": 9,
     "status": "ok",
     "timestamp": 1654188631183,
     "user": {
      "displayName": "Kalashri Sks",
      "userId": "04851706835588548424"
     },
     "user_tz": -330
    },
    "id": "Cj5WuZEoUxPr",
    "outputId": "8a4260ae-5c3e-410a-9afe-76965aff8aae"
   },
   "outputs": [
    {
     "data": {
      "application/vnd.google.colaboratory.intrinsic+json": {
       "type": "string"
      },
      "text/plain": [
       "'Data Science'"
      ]
     },
     "execution_count": 38,
     "metadata": {},
     "output_type": "execute_result"
    }
   ],
   "source": [
    "a.strip()"
   ]
  },
  {
   "cell_type": "code",
   "execution_count": null,
   "metadata": {
    "colab": {
     "base_uri": "https://localhost:8080/",
     "height": 35
    },
    "executionInfo": {
     "elapsed": 9,
     "status": "ok",
     "timestamp": 1654188657016,
     "user": {
      "displayName": "Kalashri Sks",
      "userId": "04851706835588548424"
     },
     "user_tz": -330
    },
    "id": "9IgVdOxPU19I",
    "outputId": "9f990793-33c7-4a20-8f27-a5dcc1f55617"
   },
   "outputs": [
    {
     "data": {
      "application/vnd.google.colaboratory.intrinsic+json": {
       "type": "string"
      },
      "text/plain": [
       "'Djtj Science'"
      ]
     },
     "execution_count": 39,
     "metadata": {},
     "output_type": "execute_result"
    }
   ],
   "source": [
    "a = \"Data Science\"\n",
    "a.replace('a', 'j')"
   ]
  },
  {
   "cell_type": "code",
   "execution_count": null,
   "metadata": {
    "colab": {
     "base_uri": "https://localhost:8080/"
    },
    "executionInfo": {
     "elapsed": 6,
     "status": "ok",
     "timestamp": 1654188683898,
     "user": {
      "displayName": "Kalashri Sks",
      "userId": "04851706835588548424"
     },
     "user_tz": -330
    },
    "id": "CJnYivJPU8RP",
    "outputId": "03a66451-c382-48e4-8612-202c8ae04936"
   },
   "outputs": [
    {
     "data": {
      "text/plain": [
       "['Data', 'Science']"
      ]
     },
     "execution_count": 40,
     "metadata": {},
     "output_type": "execute_result"
    }
   ],
   "source": [
    "a = \"Data Science\"\n",
    "a.split()"
   ]
  },
  {
   "cell_type": "code",
   "execution_count": null,
   "metadata": {
    "colab": {
     "base_uri": "https://localhost:8080/"
    },
    "executionInfo": {
     "elapsed": 7,
     "status": "ok",
     "timestamp": 1654188723817,
     "user": {
      "displayName": "Kalashri Sks",
      "userId": "04851706835588548424"
     },
     "user_tz": -330
    },
    "id": "70JCQADbVC1H",
    "outputId": "18002fdd-8c93-41ec-b6fe-ba89172193be"
   },
   "outputs": [
    {
     "data": {
      "text/plain": [
       "['Data', ' Sci', 'ence']"
      ]
     },
     "execution_count": 41,
     "metadata": {},
     "output_type": "execute_result"
    }
   ],
   "source": [
    "a = \"Data, Sci,ence\"\n",
    "a.split(',')"
   ]
  },
  {
   "cell_type": "code",
   "execution_count": null,
   "metadata": {
    "colab": {
     "base_uri": "https://localhost:8080/"
    },
    "executionInfo": {
     "elapsed": 3,
     "status": "ok",
     "timestamp": 1654188741822,
     "user": {
      "displayName": "Kalashri Sks",
      "userId": "04851706835588548424"
     },
     "user_tz": -330
    },
    "id": "ccdVcJSlVMkv",
    "outputId": "a1c6cf26-2f6c-4120-fff4-4ca727ad92df"
   },
   "outputs": [
    {
     "data": {
      "text/plain": [
       "['Data Sci', 'nc', '']"
      ]
     },
     "execution_count": 42,
     "metadata": {},
     "output_type": "execute_result"
    }
   ],
   "source": [
    "a = \"Data Science\"\n",
    "a.split(\"e\")"
   ]
  },
  {
   "cell_type": "code",
   "execution_count": null,
   "metadata": {
    "colab": {
     "base_uri": "https://localhost:8080/",
     "height": 35
    },
    "executionInfo": {
     "elapsed": 11,
     "status": "ok",
     "timestamp": 1654188782617,
     "user": {
      "displayName": "Kalashri Sks",
      "userId": "04851706835588548424"
     },
     "user_tz": -330
    },
    "id": "VBTVmWJ3VQ-U",
    "outputId": "3604a344-7e64-4c82-887a-1cc950f32341"
   },
   "outputs": [
    {
     "data": {
      "application/vnd.google.colaboratory.intrinsic+json": {
       "type": "string"
      },
      "text/plain": [
       "'HiHow are you?'"
      ]
     },
     "execution_count": 43,
     "metadata": {},
     "output_type": "execute_result"
    }
   ],
   "source": [
    "a = \"Hi\"\n",
    "b = 'How are you?'\n",
    "c = a + b\n",
    "c"
   ]
  },
  {
   "cell_type": "code",
   "execution_count": null,
   "metadata": {
    "colab": {
     "base_uri": "https://localhost:8080/",
     "height": 35
    },
    "executionInfo": {
     "elapsed": 8,
     "status": "ok",
     "timestamp": 1654188810514,
     "user": {
      "displayName": "Kalashri Sks",
      "userId": "04851706835588548424"
     },
     "user_tz": -330
    },
    "id": "t1bAqqMUVa6_",
    "outputId": "803a189d-c8dd-4108-a53b-7efc1cffd94a"
   },
   "outputs": [
    {
     "data": {
      "application/vnd.google.colaboratory.intrinsic+json": {
       "type": "string"
      },
      "text/plain": [
       "'Hi How are you?'"
      ]
     },
     "execution_count": 44,
     "metadata": {},
     "output_type": "execute_result"
    }
   ],
   "source": [
    "c = a+\" \" + b\n",
    "c"
   ]
  },
  {
   "cell_type": "code",
   "execution_count": null,
   "metadata": {
    "colab": {
     "base_uri": "https://localhost:8080/"
    },
    "executionInfo": {
     "elapsed": 11,
     "status": "ok",
     "timestamp": 1654188921823,
     "user": {
      "displayName": "Kalashri Sks",
      "userId": "04851706835588548424"
     },
     "user_tz": -330
    },
    "id": "108BXqBhVhsn",
    "outputId": "94752258-c526-43f0-d402-1f2dfd2a0530"
   },
   "outputs": [
    {
     "name": "stdout",
     "output_type": "stream",
     "text": [
      "I want 3 pieces of item 567 for 49.95 dollars.\n"
     ]
    }
   ],
   "source": [
    "quantity = 3\n",
    "itemno = 567\n",
    "price = 49.95\n",
    "myorder = \"I want {} pieces of item {} for {} dollars.\"\n",
    "print(myorder.format(quantity, itemno, price))"
   ]
  },
  {
   "cell_type": "code",
   "execution_count": null,
   "metadata": {
    "colab": {
     "base_uri": "https://localhost:8080/",
     "height": 133
    },
    "executionInfo": {
     "elapsed": 6,
     "status": "error",
     "timestamp": 1654188979668,
     "user": {
      "displayName": "Kalashri Sks",
      "userId": "04851706835588548424"
     },
     "user_tz": -330
    },
    "id": "Dzh2YMFTV87v",
    "outputId": "015869bf-5bcf-4fe0-88ca-a17a5ec45624"
   },
   "outputs": [
    {
     "ename": "SyntaxError",
     "evalue": "ignored",
     "output_type": "error",
     "traceback": [
      "\u001b[0;36m  File \u001b[0;32m\"<ipython-input-46-56cdf4283a8e>\"\u001b[0;36m, line \u001b[0;32m1\u001b[0m\n\u001b[0;31m    txt = \"We are the so-called \"Vikings\" from the north.\"\u001b[0m\n\u001b[0m                                       ^\u001b[0m\n\u001b[0;31mSyntaxError\u001b[0m\u001b[0;31m:\u001b[0m invalid syntax\n"
     ]
    }
   ],
   "source": [
    "txt = \"We are the so-called \"Vikings\" from the north.\""
   ]
  },
  {
   "cell_type": "code",
   "execution_count": 1,
   "metadata": {
    "executionInfo": {
     "elapsed": 6,
     "status": "ok",
     "timestamp": 1655790945302,
     "user": {
      "displayName": "Ankita Upadhyay",
      "userId": "05903044482041993914"
     },
     "user_tz": 240
    },
    "id": "C_xSo6fWWLCp"
   },
   "outputs": [],
   "source": [
    "txt = 'We are the so-called \"Vikings\" from the north.'"
   ]
  },
  {
   "cell_type": "code",
   "execution_count": null,
   "metadata": {
    "id": "ALia5iD7WTFX"
   },
   "outputs": [],
   "source": [
    "txt = \"We are the so-called \\\"Vikings\\\" from the north's plaza.\""
   ]
  },
  {
   "cell_type": "code",
   "execution_count": null,
   "metadata": {
    "colab": {
     "base_uri": "https://localhost:8080/",
     "height": 35
    },
    "executionInfo": {
     "elapsed": 9,
     "status": "ok",
     "timestamp": 1654189154923,
     "user": {
      "displayName": "Kalashri Sks",
      "userId": "04851706835588548424"
     },
     "user_tz": -330
    },
    "id": "CmTCNtJ2Wk1E",
    "outputId": "b80f2fc2-75e4-4217-bb5b-20f4c11dc69e"
   },
   "outputs": [
    {
     "data": {
      "application/vnd.google.colaboratory.intrinsic+json": {
       "type": "string"
      },
      "text/plain": [
       "'We are the so-called \"Vikings  \" \\n from the north\\'s plaza.'"
      ]
     },
     "execution_count": 53,
     "metadata": {},
     "output_type": "execute_result"
    }
   ],
   "source": [
    "txt = \"We are the so-called \\\"Vikings  \\\" \\n from the north's plaza.\"\n",
    "txt"
   ]
  },
  {
   "cell_type": "code",
   "execution_count": null,
   "metadata": {
    "colab": {
     "base_uri": "https://localhost:8080/",
     "height": 35
    },
    "executionInfo": {
     "elapsed": 5,
     "status": "ok",
     "timestamp": 1654189172072,
     "user": {
      "displayName": "Kalashri Sks",
      "userId": "04851706835588548424"
     },
     "user_tz": -330
    },
    "id": "Eh2ge2L3WpwQ",
    "outputId": "2cf7d50f-9ba5-48c2-818a-7674e750a9f6"
   },
   "outputs": [
    {
     "data": {
      "application/vnd.google.colaboratory.intrinsic+json": {
       "type": "string"
      },
      "text/plain": [
       "'We are the so-called \"Vikings  \" /n from the north\\'s plaza.'"
      ]
     },
     "execution_count": 54,
     "metadata": {},
     "output_type": "execute_result"
    }
   ],
   "source": [
    "txt = \"We are the so-called \\\"Vikings  \\\" /n from the north's plaza.\"\n",
    "txt"
   ]
  },
  {
   "cell_type": "code",
   "execution_count": null,
   "metadata": {
    "colab": {
     "base_uri": "https://localhost:8080/",
     "height": 35
    },
    "executionInfo": {
     "elapsed": 8,
     "status": "ok",
     "timestamp": 1654189178202,
     "user": {
      "displayName": "Kalashri Sks",
      "userId": "04851706835588548424"
     },
     "user_tz": -330
    },
    "id": "r_Jq2EefW6JJ",
    "outputId": "422cf6ec-d9f3-4f8f-83d5-5a919801e27a"
   },
   "outputs": [
    {
     "data": {
      "application/vnd.google.colaboratory.intrinsic+json": {
       "type": "string"
      },
      "text/plain": [
       "'We are the so-called \"Vikings  \" \\t from the north\\'s plaza.'"
      ]
     },
     "execution_count": 55,
     "metadata": {},
     "output_type": "execute_result"
    }
   ],
   "source": [
    "txt = \"We are the so-called \\\"Vikings  \\\" \\t from the north's plaza.\"\n",
    "txt"
   ]
  },
  {
   "cell_type": "code",
   "execution_count": null,
   "metadata": {
    "colab": {
     "base_uri": "https://localhost:8080/",
     "height": 35
    },
    "executionInfo": {
     "elapsed": 11,
     "status": "ok",
     "timestamp": 1654189192718,
     "user": {
      "displayName": "Kalashri Sks",
      "userId": "04851706835588548424"
     },
     "user_tz": -330
    },
    "id": "_COhxXy9W7m4",
    "outputId": "24e3e1b0-6304-478b-ed0d-ce87108c0702"
   },
   "outputs": [
    {
     "data": {
      "application/vnd.google.colaboratory.intrinsic+json": {
       "type": "string"
      },
      "text/plain": [
       "'We are the \\t so-called \"Vikings  \" \\n from the north\\'s plaza.'"
      ]
     },
     "execution_count": 56,
     "metadata": {},
     "output_type": "execute_result"
    }
   ],
   "source": [
    "txt = \"We are the \\t so-called \\\"Vikings  \\\" \\n from the north's plaza.\"\n",
    "txt"
   ]
  },
  {
   "cell_type": "code",
   "execution_count": null,
   "metadata": {
    "colab": {
     "base_uri": "https://localhost:8080/"
    },
    "executionInfo": {
     "elapsed": 7,
     "status": "ok",
     "timestamp": 1654189200209,
     "user": {
      "displayName": "Kalashri Sks",
      "userId": "04851706835588548424"
     },
     "user_tz": -330
    },
    "id": "2YfnQAXmW_DI",
    "outputId": "90f0bec6-8aa3-49d1-b1c4-abbe60526667"
   },
   "outputs": [
    {
     "name": "stdout",
     "output_type": "stream",
     "text": [
      "We are the \t so-called \"Vikings  \" \n",
      " from the north's plaza.\n"
     ]
    }
   ],
   "source": [
    "print(txt)"
   ]
  },
  {
   "cell_type": "code",
   "execution_count": null,
   "metadata": {
    "id": "OLWeyUXOXA7w"
   },
   "outputs": [],
   "source": [
    "# \\'\tSingle Quote\t\n",
    "# \\\\\tBackslash\t\n",
    "# \\n\tNew Line\t\n",
    "# \\r\tCarriage Return\t\n",
    "# \\t\tTab\t\n",
    "# \\b\tBackspace\t\n",
    "# \\f\tForm Feed\t"
   ]
  },
  {
   "cell_type": "code",
   "execution_count": null,
   "metadata": {
    "colab": {
     "base_uri": "https://localhost:8080/"
    },
    "executionInfo": {
     "elapsed": 417,
     "status": "ok",
     "timestamp": 1654272495379,
     "user": {
      "displayName": "Kalashri Sks",
      "userId": "04851706835588548424"
     },
     "user_tz": -330
    },
    "id": "9_rG3v7LXvUf",
    "outputId": "812602dc-5465-4918-9cdd-250e84a9e389"
   },
   "outputs": [
    {
     "name": "stdout",
     "output_type": "stream",
     "text": [
      "\n",
      " Python\n",
      " Python\n",
      " Python\n",
      " Python\n",
      " Python\n",
      " Python\n",
      " Python\n",
      " Python\n",
      " Python\n",
      " Python\n"
     ]
    }
   ],
   "source": [
    "print(10*'\\n Python')"
   ]
  },
  {
   "cell_type": "code",
   "execution_count": null,
   "metadata": {
    "id": "wd9TnbsqUtr0"
   },
   "outputs": [],
   "source": [
    "#Swap two number\n",
    "a = 20\n",
    "b = \"Python\"\n",
    "\n",
    "a, b = b, a"
   ]
  },
  {
   "cell_type": "code",
   "execution_count": null,
   "metadata": {
    "colab": {
     "base_uri": "https://localhost:8080/"
    },
    "executionInfo": {
     "elapsed": 6,
     "status": "ok",
     "timestamp": 1654272552188,
     "user": {
      "displayName": "Kalashri Sks",
      "userId": "04851706835588548424"
     },
     "user_tz": -330
    },
    "id": "0nBHjKP3U8cK",
    "outputId": "ec1ade8a-526e-4aae-99ed-9c24748ce479"
   },
   "outputs": [
    {
     "name": "stdout",
     "output_type": "stream",
     "text": [
      "Python\n"
     ]
    }
   ],
   "source": [
    "print(a)"
   ]
  },
  {
   "cell_type": "code",
   "execution_count": null,
   "metadata": {
    "colab": {
     "base_uri": "https://localhost:8080/"
    },
    "executionInfo": {
     "elapsed": 3,
     "status": "ok",
     "timestamp": 1654272578057,
     "user": {
      "displayName": "Kalashri Sks",
      "userId": "04851706835588548424"
     },
     "user_tz": -330
    },
    "id": "B5q1KbxsU-ZS",
    "outputId": "6c68cfa3-fe1a-4e80-8d89-cf60e0c39433"
   },
   "outputs": [
    {
     "data": {
      "text/plain": [
       "20"
      ]
     },
     "execution_count": 5,
     "metadata": {},
     "output_type": "execute_result"
    }
   ],
   "source": [
    "b"
   ]
  },
  {
   "cell_type": "code",
   "execution_count": null,
   "metadata": {
    "colab": {
     "base_uri": "https://localhost:8080/",
     "height": 53
    },
    "executionInfo": {
     "elapsed": 17892,
     "status": "ok",
     "timestamp": 1654272925167,
     "user": {
      "displayName": "Kalashri Sks",
      "userId": "04851706835588548424"
     },
     "user_tz": -330
    },
    "id": "vM2M0XpeVEvT",
    "outputId": "fc5a42af-2296-469c-e0b8-9bc47b18b001"
   },
   "outputs": [
    {
     "name": "stdout",
     "output_type": "stream",
     "text": [
      "Enter value10\n"
     ]
    },
    {
     "data": {
      "application/vnd.google.colaboratory.intrinsic+json": {
       "type": "string"
      },
      "text/plain": [
       "'10'"
      ]
     },
     "execution_count": 7,
     "metadata": {},
     "output_type": "execute_result"
    }
   ],
   "source": [
    "input(\"Enter value\")"
   ]
  },
  {
   "cell_type": "code",
   "execution_count": null,
   "metadata": {
    "colab": {
     "base_uri": "https://localhost:8080/",
     "height": 53
    },
    "executionInfo": {
     "elapsed": 4660,
     "status": "ok",
     "timestamp": 1654272993712,
     "user": {
      "displayName": "Kalashri Sks",
      "userId": "04851706835588548424"
     },
     "user_tz": -330
    },
    "id": "DL41YlvFWVK6",
    "outputId": "ffbea13f-fa8d-472d-8120-519863e6e7cd"
   },
   "outputs": [
    {
     "name": "stdout",
     "output_type": "stream",
     "text": [
      "Enter name: Kalashri\n"
     ]
    },
    {
     "data": {
      "application/vnd.google.colaboratory.intrinsic+json": {
       "type": "string"
      },
      "text/plain": [
       "'Kalashri'"
      ]
     },
     "execution_count": 8,
     "metadata": {},
     "output_type": "execute_result"
    }
   ],
   "source": [
    "input(\"Enter name: \")"
   ]
  },
  {
   "cell_type": "code",
   "execution_count": null,
   "metadata": {
    "colab": {
     "base_uri": "https://localhost:8080/"
    },
    "executionInfo": {
     "elapsed": 9773,
     "status": "ok",
     "timestamp": 1654273213373,
     "user": {
      "displayName": "Kalashri Sks",
      "userId": "04851706835588548424"
     },
     "user_tz": -330
    },
    "id": "s5w9mJ6TWpGR",
    "outputId": "e40772e2-ebef-40e4-ff95-43b4a46cee4d"
   },
   "outputs": [
    {
     "name": "stdout",
     "output_type": "stream",
     "text": [
      "Enter No. 1: Python\n",
      "Enter No. 2: C#\n"
     ]
    }
   ],
   "source": [
    "# Print sum of two numbers - input values\n",
    "no1 = input(\"Enter No. 1: \") \n",
    "no2 = input(\"Enter No. 2: \") "
   ]
  },
  {
   "cell_type": "code",
   "execution_count": null,
   "metadata": {
    "colab": {
     "base_uri": "https://localhost:8080/",
     "height": 35
    },
    "executionInfo": {
     "elapsed": 964,
     "status": "ok",
     "timestamp": 1654273219473,
     "user": {
      "displayName": "Kalashri Sks",
      "userId": "04851706835588548424"
     },
     "user_tz": -330
    },
    "id": "VK1eCfjpXKr7",
    "outputId": "dabd3b00-b6aa-4ae9-b734-6b819f80c713"
   },
   "outputs": [
    {
     "data": {
      "application/vnd.google.colaboratory.intrinsic+json": {
       "type": "string"
      },
      "text/plain": [
       "'PythonC#'"
      ]
     },
     "execution_count": 15,
     "metadata": {},
     "output_type": "execute_result"
    }
   ],
   "source": [
    "sum = no1 + no2\n",
    "sum"
   ]
  },
  {
   "cell_type": "code",
   "execution_count": null,
   "metadata": {
    "colab": {
     "base_uri": "https://localhost:8080/"
    },
    "executionInfo": {
     "elapsed": 3,
     "status": "ok",
     "timestamp": 1654273184871,
     "user": {
      "displayName": "Kalashri Sks",
      "userId": "04851706835588548424"
     },
     "user_tz": -330
    },
    "id": "j0K-76M3XOat",
    "outputId": "63beeeac-1f9e-4207-e255-acf86e0ecdc7"
   },
   "outputs": [
    {
     "name": "stdout",
     "output_type": "stream",
     "text": [
      "<class 'str'>\n"
     ]
    }
   ],
   "source": [
    "print(type(no2))"
   ]
  },
  {
   "cell_type": "code",
   "execution_count": null,
   "metadata": {
    "colab": {
     "base_uri": "https://localhost:8080/",
     "height": 168
    },
    "executionInfo": {
     "elapsed": 418,
     "status": "error",
     "timestamp": 1654273269104,
     "user": {
      "displayName": "Kalashri Sks",
      "userId": "04851706835588548424"
     },
     "user_tz": -330
    },
    "id": "sl11S4Z3XY6p",
    "outputId": "613931ba-bbef-4f1c-ec7d-6435f16657ac"
   },
   "outputs": [
    {
     "ename": "ValueError",
     "evalue": "ignored",
     "output_type": "error",
     "traceback": [
      "\u001b[0;31m---------------------------------------------------------------------------\u001b[0m",
      "\u001b[0;31mValueError\u001b[0m                                Traceback (most recent call last)",
      "\u001b[0;32m<ipython-input-16-1af0aae1a731>\u001b[0m in \u001b[0;36m<module>\u001b[0;34m()\u001b[0m\n\u001b[0;32m----> 1\u001b[0;31m \u001b[0mno2\u001b[0m \u001b[0;34m=\u001b[0m \u001b[0mint\u001b[0m\u001b[0;34m(\u001b[0m\u001b[0mno2\u001b[0m\u001b[0;34m)\u001b[0m\u001b[0;34m\u001b[0m\u001b[0;34m\u001b[0m\u001b[0m\n\u001b[0m",
      "\u001b[0;31mValueError\u001b[0m: invalid literal for int() with base 10: 'C#'"
     ]
    }
   ],
   "source": [
    "no1 = int(no1)\n",
    "no2 = int(no2)"
   ]
  },
  {
   "cell_type": "code",
   "execution_count": null,
   "metadata": {
    "colab": {
     "base_uri": "https://localhost:8080/"
    },
    "executionInfo": {
     "elapsed": 5507,
     "status": "ok",
     "timestamp": 1654273342824,
     "user": {
      "displayName": "Kalashri Sks",
      "userId": "04851706835588548424"
     },
     "user_tz": -330
    },
    "id": "xXtekv85X9UV",
    "outputId": "454ebc6e-3834-418d-dc79-56e92ffb7ec6"
   },
   "outputs": [
    {
     "name": "stdout",
     "output_type": "stream",
     "text": [
      "Enter No. 1: 50\n",
      "Enter No. 2: 80\n"
     ]
    }
   ],
   "source": [
    "# Print sum of two numbers - input values\n",
    "no1 = input(\"Enter No. 1: \") \n",
    "no2 = input(\"Enter No. 2: \") "
   ]
  },
  {
   "cell_type": "code",
   "execution_count": null,
   "metadata": {
    "colab": {
     "base_uri": "https://localhost:8080/"
    },
    "executionInfo": {
     "elapsed": 4,
     "status": "ok",
     "timestamp": 1654273364461,
     "user": {
      "displayName": "Kalashri Sks",
      "userId": "04851706835588548424"
     },
     "user_tz": -330
    },
    "id": "f76pvzWiX-QZ",
    "outputId": "12c1ed45-c1de-4040-fa2f-6ed3ef2cb0dd"
   },
   "outputs": [
    {
     "name": "stdout",
     "output_type": "stream",
     "text": [
      "130\n"
     ]
    }
   ],
   "source": [
    "no1 = int(no1)\n",
    "no2 = int(no2)\n",
    "sum = no1 + no2\n",
    "print(sum)"
   ]
  },
  {
   "cell_type": "code",
   "execution_count": null,
   "metadata": {
    "colab": {
     "base_uri": "https://localhost:8080/"
    },
    "executionInfo": {
     "elapsed": 4,
     "status": "ok",
     "timestamp": 1654273404343,
     "user": {
      "displayName": "Kalashri Sks",
      "userId": "04851706835588548424"
     },
     "user_tz": -330
    },
    "id": "8QDlff22YE5h",
    "outputId": "074276fa-4632-413a-ab85-30bbfea11a26"
   },
   "outputs": [
    {
     "name": "stdout",
     "output_type": "stream",
     "text": [
      "<class 'int'>\n"
     ]
    }
   ],
   "source": [
    "print(type(no1))"
   ]
  },
  {
   "cell_type": "code",
   "execution_count": null,
   "metadata": {
    "colab": {
     "base_uri": "https://localhost:8080/"
    },
    "executionInfo": {
     "elapsed": 30467,
     "status": "ok",
     "timestamp": 1654273485856,
     "user": {
      "displayName": "Kalashri Sks",
      "userId": "04851706835588548424"
     },
     "user_tz": -330
    },
    "id": "DgvHj8twYOhI",
    "outputId": "4bf5c012-237a-4d96-ae10-977685edb568"
   },
   "outputs": [
    {
     "name": "stdout",
     "output_type": "stream",
     "text": [
      "Enter 1st value: 80\n"
     ]
    }
   ],
   "source": [
    "no1 = int(input(\"Enter 1st value: \"))"
   ]
  },
  {
   "cell_type": "code",
   "execution_count": null,
   "metadata": {
    "colab": {
     "base_uri": "https://localhost:8080/"
    },
    "executionInfo": {
     "elapsed": 5,
     "status": "ok",
     "timestamp": 1654273498202,
     "user": {
      "displayName": "Kalashri Sks",
      "userId": "04851706835588548424"
     },
     "user_tz": -330
    },
    "id": "8e0ahrREYUVC",
    "outputId": "49cb8ab8-ce9e-4237-c035-c393aeb19a55"
   },
   "outputs": [
    {
     "name": "stdout",
     "output_type": "stream",
     "text": [
      "<class 'int'>\n"
     ]
    }
   ],
   "source": [
    "print(type(no1))"
   ]
  },
  {
   "cell_type": "code",
   "execution_count": null,
   "metadata": {
    "colab": {
     "base_uri": "https://localhost:8080/",
     "height": 186
    },
    "executionInfo": {
     "elapsed": 5399,
     "status": "error",
     "timestamp": 1654273521944,
     "user": {
      "displayName": "Kalashri Sks",
      "userId": "04851706835588548424"
     },
     "user_tz": -330
    },
    "id": "IbcSE-kPYljU",
    "outputId": "b14cbb80-a1af-4471-a868-a8fb23baac5c"
   },
   "outputs": [
    {
     "name": "stdout",
     "output_type": "stream",
     "text": [
      "Enter 1st value: 50.4\n"
     ]
    },
    {
     "ename": "ValueError",
     "evalue": "ignored",
     "output_type": "error",
     "traceback": [
      "\u001b[0;31m---------------------------------------------------------------------------\u001b[0m",
      "\u001b[0;31mValueError\u001b[0m                                Traceback (most recent call last)",
      "\u001b[0;32m<ipython-input-3-bd3443bf2bd1>\u001b[0m in \u001b[0;36m<module>\u001b[0;34m()\u001b[0m\n\u001b[0;32m----> 1\u001b[0;31m \u001b[0mno1\u001b[0m \u001b[0;34m=\u001b[0m \u001b[0mint\u001b[0m\u001b[0;34m(\u001b[0m\u001b[0minput\u001b[0m\u001b[0;34m(\u001b[0m\u001b[0;34m\"Enter 1st value: \"\u001b[0m\u001b[0;34m)\u001b[0m\u001b[0;34m)\u001b[0m\u001b[0;34m\u001b[0m\u001b[0;34m\u001b[0m\u001b[0m\n\u001b[0m",
      "\u001b[0;31mValueError\u001b[0m: invalid literal for int() with base 10: '50.4'"
     ]
    }
   ],
   "source": [
    "no1 = int(input(\"Enter 1st value: \"))"
   ]
  },
  {
   "cell_type": "code",
   "execution_count": null,
   "metadata": {
    "colab": {
     "base_uri": "https://localhost:8080/"
    },
    "executionInfo": {
     "elapsed": 3687,
     "status": "ok",
     "timestamp": 1654273566934,
     "user": {
      "displayName": "Kalashri Sks",
      "userId": "04851706835588548424"
     },
     "user_tz": -330
    },
    "id": "82vYfg59Yp5D",
    "outputId": "8ad20c8f-30e9-4f95-a6d8-722c7722ea3f"
   },
   "outputs": [
    {
     "name": "stdout",
     "output_type": "stream",
     "text": [
      "Enter 1st value: 50.4\n"
     ]
    }
   ],
   "source": [
    "no1 = float(input(\"Enter 1st value: \"))"
   ]
  },
  {
   "cell_type": "code",
   "execution_count": null,
   "metadata": {
    "colab": {
     "base_uri": "https://localhost:8080/"
    },
    "executionInfo": {
     "elapsed": 5,
     "status": "ok",
     "timestamp": 1654273581079,
     "user": {
      "displayName": "Kalashri Sks",
      "userId": "04851706835588548424"
     },
     "user_tz": -330
    },
    "id": "hHKlz33eY1JF",
    "outputId": "47ce3144-a0e6-478d-855a-2070fab5f752"
   },
   "outputs": [
    {
     "name": "stdout",
     "output_type": "stream",
     "text": [
      "<class 'float'>\n"
     ]
    }
   ],
   "source": [
    "print(type(no1))"
   ]
  },
  {
   "cell_type": "code",
   "execution_count": null,
   "metadata": {
    "id": "CXbji--8Y5lJ"
   },
   "outputs": [],
   "source": []
  }
 ],
 "metadata": {
  "colab": {
   "collapsed_sections": [],
   "name": "1_Basic Python",
   "provenance": []
  },
  "kernelspec": {
   "display_name": "Python 3 (ipykernel)",
   "language": "python",
   "name": "python3"
  },
  "language_info": {
   "codemirror_mode": {
    "name": "ipython",
    "version": 3
   },
   "file_extension": ".py",
   "mimetype": "text/x-python",
   "name": "python",
   "nbconvert_exporter": "python",
   "pygments_lexer": "ipython3",
   "version": "3.9.12"
  }
 },
 "nbformat": 4,
 "nbformat_minor": 1
}
