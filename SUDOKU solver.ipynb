{
 "cells": [
  {
   "cell_type": "code",
   "execution_count": 11,
   "id": "d58e5a68",
   "metadata": {},
   "outputs": [],
   "source": [
    "board =[\n",
    "    [0, 0, 5, 1, 0, 0, 0, 7, 0],\n",
    "       [7, 3, 4, 0, 0, 8, 0, 0, 1],\n",
    "       [0, 0, 9, 7, 0, 0, 0, 3, 5],\n",
    "       [0, 2, 6, 8, 0, 1, 0, 4, 0],\n",
    "       [0, 0, 0, 0, 0, 0, 6, 2, 0],\n",
    "       [4, 0, 3, 0, 5, 6, 1, 9, 0],\n",
    "       [0, 6, 0, 4, 2, 7, 3, 1, 0],\n",
    "       [0, 0, 0, 0, 0, 3, 0, 5, 0],\n",
    "       [3, 4, 0, 9, 1, 0, 0, 8, 0]]"
   ]
  },
  {
   "cell_type": "markdown",
   "id": "4a1a67a9",
   "metadata": {},
   "source": [
    "# Checking Validity\n",
    "Next, we need a function that checks if a particular number can be placed in a given cell. This function must check the row, column, and 3x3 grid for the same number."
   ]
  },
  {
   "cell_type": "code",
   "execution_count": 12,
   "id": "ede6519d",
   "metadata": {},
   "outputs": [],
   "source": [
    "def is_valid(board, row, col, num):\n",
    "    #check the row\n",
    "    for x in range(9):\n",
    "        if board[row][x] == num:\n",
    "            return False\n",
    "    #check the column    \n",
    "    for x in range(9):\n",
    "        if board[x][col] == num:\n",
    "            return False\n",
    "        \n",
    "    #check the box\n",
    "    start_row = row - row % 3\n",
    "    start_col = col - col % 3\n",
    "    for i in range(3):\n",
    "        for j in range(3):\n",
    "            if board[i + start_row][j + start_col] == num:\n",
    "                return False\n",
    "    return True"
   ]
  },
  {
   "cell_type": "markdown",
   "id": "bf706860",
   "metadata": {},
   "source": [
    "Finding Empty Spaces\n",
    "We also need a function to check for an empty space on the board. We’ll traverse the board from top to bottom, left to right.\n",
    "\n",
    "We return its position once we find an empty space (0). If no spaces are found, we’ll return (-1, -1), which signifies that the board is full."
   ]
  },
  {
   "cell_type": "code",
   "execution_count": 13,
   "id": "90db7f0c",
   "metadata": {},
   "outputs": [],
   "source": [
    "def find_empty(board):\n",
    "    for i in range(len(board)):\n",
    "        for j in range(len(board[0])):\n",
    "            if board[i][j] == 0:\n",
    "                return i, j # row, column\n",
    "    return -1, -1 #no space left"
   ]
  },
  {
   "cell_type": "markdown",
   "id": "5e462afc",
   "metadata": {},
   "source": [
    "Implementing Backtracking\n",
    "With these helper functions, we can now implement the main backtracking process. This function will take the current state of the board as input, find an empty cell, and try to place numbers 1–9 in it, checking the validity each time.\n",
    "\n",
    "If a number can be placed, it places the number and recursively attempts to fill in the rest of the board. If it hits a dead end (it can’t place a number in the current empty cell), it backtracks by setting the cell to empty (0) and continues to the last cell."
   ]
  },
  {
   "cell_type": "code",
   "execution_count": null,
   "id": "bfe8fd53",
   "metadata": {},
   "outputs": [],
   "source": [
    "def solve(board):\n",
    "    row, col = find_empty(board)\n",
    "    \n",
    "    if row == -1: # no more empty space, we've solved it!\n",
    "        return True\n",
    "    \n",
    "    for num in range(1, 10): # try numbers 1-9\n",
    "        if is_valid(board, row, col, num):\n",
    "            board[row][col] = num\n",
    "            \n"
   ]
  },
  {
   "cell_type": "code",
   "execution_count": null,
   "id": "fb42d78d",
   "metadata": {},
   "outputs": [],
   "source": []
  },
  {
   "cell_type": "code",
   "execution_count": null,
   "id": "dc5f963f",
   "metadata": {},
   "outputs": [],
   "source": []
  }
 ],
 "metadata": {
  "kernelspec": {
   "display_name": "Python 3 (ipykernel)",
   "language": "python",
   "name": "python3"
  },
  "language_info": {
   "codemirror_mode": {
    "name": "ipython",
    "version": 3
   },
   "file_extension": ".py",
   "mimetype": "text/x-python",
   "name": "python",
   "nbconvert_exporter": "python",
   "pygments_lexer": "ipython3",
   "version": "3.9.12"
  }
 },
 "nbformat": 4,
 "nbformat_minor": 5
}
